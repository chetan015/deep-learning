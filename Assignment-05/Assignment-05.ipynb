{
  "nbformat": 4,
  "nbformat_minor": 0,
  "metadata": {
    "colab": {
      "name": "Assignment-05.ipynb",
      "provenance": [],
      "collapsed_sections": [],
      "include_colab_link": true
    },
    "kernelspec": {
      "name": "python3",
      "display_name": "Python 3"
    },
    "accelerator": "GPU"
  },
  "cells": [
    {
      "cell_type": "markdown",
      "metadata": {
        "id": "view-in-github",
        "colab_type": "text"
      },
      "source": [
        "<a href=\"https://colab.research.google.com/github/chetan015/deep-learning/blob/master/Assignment-05/Assignment-05.ipynb\" target=\"_parent\"><img src=\"https://colab.research.google.com/assets/colab-badge.svg\" alt=\"Open In Colab\"/></a>"
      ]
    },
    {
      "cell_type": "code",
      "metadata": {
        "id": "0SJyVpgSxHt4",
        "colab_type": "code",
        "outputId": "5639525d-67f9-4488-fa87-32587566d7f5",
        "colab": {
          "base_uri": "https://localhost:8080/",
          "height": 119
        }
      },
      "source": [
        "%tensorflow_version 1.4\n",
        "import numpy as np\n",
        "\n",
        "from keras.models import Sequential\n",
        "from keras.layers import Dense, Dropout, Activation, Flatten, Add, BatchNormalization\n",
        "from keras.layers import Convolution2D, MaxPooling2D\n",
        "from keras.utils import np_utils\n",
        "\n",
        "from keras.datasets import mnist"
      ],
      "execution_count": 0,
      "outputs": [
        {
          "output_type": "stream",
          "text": [
            "`%tensorflow_version` only switches the major version: 1.x or 2.x.\n",
            "You set: `1.4`. This will be interpreted as: `1.x`.\n",
            "\n",
            "\n",
            "TensorFlow 1.x selected.\n"
          ],
          "name": "stdout"
        },
        {
          "output_type": "stream",
          "text": [
            "Using TensorFlow backend.\n"
          ],
          "name": "stderr"
        }
      ]
    },
    {
      "cell_type": "code",
      "metadata": {
        "id": "YlEUplvoxKAT",
        "colab_type": "code",
        "colab": {}
      },
      "source": [
        "(trainX, trainy), (testX, testy) = mnist.load_data()\n",
        "# reshape dataset to have a single channel\n",
        "width, height, channels = trainX.shape[1], trainX.shape[2], 1\n",
        "trainX = trainX.reshape((trainX.shape[0], width, height, channels))\n",
        "imagefeatures = testX[:]\n",
        "testX = testX.reshape((testX.shape[0], width, height, channels))\n",
        "trainy = np_utils.to_categorical(y_train, 10)\n",
        "testy = np_utils.to_categorical(y_test, 10)"
      ],
      "execution_count": 0,
      "outputs": []
    },
    {
      "cell_type": "code",
      "metadata": {
        "id": "I6Y9Va-xxMXG",
        "colab_type": "code",
        "outputId": "2681e227-5b03-4650-e82f-51e6e975c16b",
        "colab": {
          "base_uri": "https://localhost:8080/",
          "height": 299
        }
      },
      "source": [
        "print (X_train.shape)\n",
        "from matplotlib import pyplot as plt\n",
        "%matplotlib inline\n",
        "plt.imshow(X_train[1])"
      ],
      "execution_count": 0,
      "outputs": [
        {
          "output_type": "stream",
          "text": [
            "(60000, 28, 28)\n"
          ],
          "name": "stdout"
        },
        {
          "output_type": "execute_result",
          "data": {
            "text/plain": [
              "<matplotlib.image.AxesImage at 0x7f2d7973f0b8>"
            ]
          },
          "metadata": {
            "tags": []
          },
          "execution_count": 10
        },
        {
          "output_type": "display_data",
          "data": {
            "image/png": "[encoded data removed]",
            "text/plain": [
              "<Figure size 432x288 with 1 Axes>"
            ]
          },
          "metadata": {
            "tags": []
          }
        }
      ]
    },
    {
      "cell_type": "code",
      "metadata": {
        "id": "lxDZxPhhxOgO",
        "colab_type": "code",
        "outputId": "733c5b50-bb2f-44c9-faef-a001652bf915",
        "colab": {
          "base_uri": "https://localhost:8080/",
          "height": 85
        }
      },
      "source": [
        "# # example of standardizing a image dataset\n",
        "# from keras.datasets import mnist\n",
        "# from keras.preprocessing.image import ImageDataGenerator\n",
        "# # load dataset\n",
        "# (trainX, trainy), (testX, testy) = mnist.load_data()\n",
        "# # reshape dataset to have a single channel\n",
        "# width, height, channels = trainX.shape[1], trainX.shape[2], 1\n",
        "# trainX = trainX.reshape((trainX.shape[0], width, height, channels))\n",
        "# testX = testX.reshape((testX.shape[0], width, height, channels))\n",
        "# # report pixel means and standard deviations\n",
        "# print('Statistics train=%.3f (%.3f), test=%.3f (%.3f)' % (trainX.mean(), trainX.std(), testX.mean(), testX.std()))\n",
        "# # create generator that centers pixel values\n",
        "# datagen = ImageDataGenerator(featurewise_center=True, featurewise_std_normalization=True)\n",
        "# # calculate the mean on the training dataset\n",
        "# datagen.fit(trainX)\n",
        "# print('Data Generator mean=%.3f, std=%.3f' % (datagen.mean, datagen.std))\n",
        "# # demonstrate effect on a single batch of samples\n",
        "# iterator = datagen.flow(trainX, trainy, batch_size=64)\n",
        "# # get a batch\n",
        "# batchX, batchy = iterator.next()\n",
        "# # pixel stats in the batch\n",
        "# print(batchX.shape, batchX.mean(), batchX.std())\n",
        "# # demonstrate effect on entire training dataset\n",
        "# iterator = datagen.flow(trainX, trainy, batch_size=len(trainX), shuffle=False)\n",
        "# # get a batch\n",
        "# batchX, batchy = iterator.next()\n",
        "# # pixel stats in the batch\n",
        "# print(batchX.shape, batchX.mean(), batchX.std())\n",
        "\n",
        "\n",
        "\n",
        "# Statistics train=33.318 (78.567), test=33.791 (79.172)\n",
        "# Data Generator mean=33.318, std=78.567\n",
        "# (64, 28, 28, 1) 0.010656365 1.0107679\n",
        "# (60000, 28, 28, 1) -3.4560264e-07 0.9999998"
      ],
      "execution_count": 0,
      "outputs": [
        {
          "output_type": "stream",
          "text": [
            "Statistics train=33.318 (78.567), test=33.791 (79.172)\n",
            "Data Generator mean=33.318, std=78.567\n",
            "(64, 28, 28, 1) 0.02763115 1.0269848\n",
            "(60000, 28, 28, 1) -3.4560264e-07 0.9999998\n"
          ],
          "name": "stdout"
        }
      ]
    },
    {
      "cell_type": "code",
      "metadata": {
        "id": "3HzMqbTnxQQW",
        "colab_type": "code",
        "colab": {}
      },
      "source": [
        "# X_train = X_train.astype('float32')\n",
        "# X_test = X_test.astype('float32')\n",
        "# X_train /= 255\n",
        "# X_test /= 255"
      ],
      "execution_count": 0,
      "outputs": []
    },
    {
      "cell_type": "code",
      "metadata": {
        "id": "mDpXf4YQxXRm",
        "colab_type": "code",
        "outputId": "6d2fba3a-21d7-4ba3-fd64-fae8d846ae2a",
        "colab": {
          "base_uri": "https://localhost:8080/",
          "height": 1000
        }
      },
      "source": [
        "from keras.layers import Activation, BatchNormalization, MaxPooling2D, Dropout\n",
        "from keras import regularizers\n",
        "model = Sequential()\n",
        "\n",
        "model.add(Convolution2D(16, (3, 3), name='conv1', input_shape=(28,28,1), use_bias=False)) #26\n",
        "model.add(BatchNormalization())\n",
        "model.add(Activation('relu'))\n",
        "model.add(Dropout(0.1))\n",
        "\n",
        "\n",
        "model.add(Convolution2D(16, (3, 3), name='conv2', use_bias=False)) #24\n",
        "model.add(BatchNormalization())\n",
        "model.add(Activation('relu'))\n",
        "model.add(Dropout(0.1))\n",
        "\n",
        "# Transition Block\n",
        "model.add(Convolution2D(10, 1))\n",
        "model.add(MaxPooling2D(pool_size=(2, 2)))#12\n",
        "\n",
        "model.add(Convolution2D(16,(3,3),name='conv3',use_bias=False))  # 10\n",
        "model.add(BatchNormalization())\n",
        "model.add(Activation('relu'))\n",
        "model.add(Dropout(0.1))\n",
        "\n",
        "\n",
        "model.add(Convolution2D(16, (3, 3), name='conv4', use_bias=False)) #8\n",
        "model.add(BatchNormalization())\n",
        "model.add(Activation('relu'))\n",
        "model.add(Dropout(0.1))\n",
        "\n",
        "\n",
        "model.add(Convolution2D(16, (3, 3), name='conv5', use_bias=False)) #6\n",
        "model.add(BatchNormalization())\n",
        "model.add(Activation('relu'))\n",
        "model.add(Dropout(0.1))\n",
        "\n",
        "model.add(Convolution2D(10,1))\n",
        "model.add(Convolution2D(10,6,name='conv6'))\n",
        "\n",
        "model.add(Flatten())\n",
        "model.add(Activation('softmax'))\n",
        "model.summary()\n",
        "\n",
        "\n"
      ],
      "execution_count": 0,
      "outputs": [
        {
          "output_type": "stream",
          "text": [
            "Model: \"sequential_3\"\n",
            "_________________________________________________________________\n",
            "Layer (type)                 Output Shape              Param #   \n",
            "=================================================================\n",
            "conv1 (Conv2D)               (None, 26, 26, 16)        144       \n",
            "_________________________________________________________________\n",
            "batch_normalization_11 (Batc (None, 26, 26, 16)        64        \n",
            "_________________________________________________________________\n",
            "activation_12 (Activation)   (None, 26, 26, 16)        0         \n",
            "_________________________________________________________________\n",
            "dropout_11 (Dropout)         (None, 26, 26, 16)        0         \n",
            "_________________________________________________________________\n",
            "conv2 (Conv2D)               (None, 24, 24, 16)        2304      \n",
            "_________________________________________________________________\n",
            "batch_normalization_12 (Batc (None, 24, 24, 16)        64        \n",
            "_________________________________________________________________\n",
            "activation_13 (Activation)   (None, 24, 24, 16)        0         \n",
            "_________________________________________________________________\n",
            "dropout_12 (Dropout)         (None, 24, 24, 16)        0         \n",
            "_________________________________________________________________\n",
            "conv2d_6 (Conv2D)            (None, 24, 24, 10)        170       \n",
            "_________________________________________________________________\n",
            "max_pooling2d_3 (MaxPooling2 (None, 12, 12, 10)        0         \n",
            "_________________________________________________________________\n",
            "conv3 (Conv2D)               (None, 10, 10, 16)        1440      \n",
            "_________________________________________________________________\n",
            "batch_normalization_13 (Batc (None, 10, 10, 16)        64        \n",
            "_________________________________________________________________\n",
            "activation_14 (Activation)   (None, 10, 10, 16)        0         \n",
            "_________________________________________________________________\n",
            "dropout_13 (Dropout)         (None, 10, 10, 16)        0         \n",
            "_________________________________________________________________\n",
            "conv4 (Conv2D)               (None, 8, 8, 16)          2304      \n",
            "_________________________________________________________________\n",
            "batch_normalization_14 (Batc (None, 8, 8, 16)          64        \n",
            "_________________________________________________________________\n",
            "activation_15 (Activation)   (None, 8, 8, 16)          0         \n",
            "_________________________________________________________________\n",
            "dropout_14 (Dropout)         (None, 8, 8, 16)          0         \n",
            "_________________________________________________________________\n",
            "conv5 (Conv2D)               (None, 6, 6, 16)          2304      \n",
            "_________________________________________________________________\n",
            "batch_normalization_15 (Batc (None, 6, 6, 16)          64        \n",
            "_________________________________________________________________\n",
            "activation_16 (Activation)   (None, 6, 6, 16)          0         \n",
            "_________________________________________________________________\n",
            "dropout_15 (Dropout)         (None, 6, 6, 16)          0         \n",
            "_________________________________________________________________\n",
            "conv2d_7 (Conv2D)            (None, 6, 6, 10)          170       \n",
            "_________________________________________________________________\n",
            "conv6 (Conv2D)               (None, 1, 1, 10)          3610      \n",
            "_________________________________________________________________\n",
            "flatten_2 (Flatten)          (None, 10)                0         \n",
            "_________________________________________________________________\n",
            "activation_17 (Activation)   (None, 10)                0         \n",
            "=================================================================\n",
            "Total params: 12,766\n",
            "Trainable params: 12,606\n",
            "Non-trainable params: 160\n",
            "_________________________________________________________________\n"
          ],
          "name": "stdout"
        }
      ]
    },
    {
      "cell_type": "code",
      "metadata": {
        "id": "L2IicGJ4x3Be",
        "colab_type": "code",
        "colab": {}
      },
      "source": [
        "from keras.optimizers import Adam\n",
        "from keras.callbacks import LearningRateScheduler\n",
        "def scheduler(epoch, lr):\n",
        "  return round(0.003 * 1/(1 + 0.319 * epoch), 10)\n",
        "\n",
        "model.compile(loss='categorical_crossentropy', optimizer=Adam(lr=0.003), metrics=['accuracy'])\n",
        "\n"
      ],
      "execution_count": 0,
      "outputs": []
    },
    {
      "cell_type": "code",
      "metadata": {
        "id": "10KdULhAeZkf",
        "colab_type": "code",
        "outputId": "23c3a33f-e9dd-4ba2-f06f-3c9d9c79e0e7",
        "colab": {
          "base_uri": "https://localhost:8080/",
          "height": 1000
        }
      },
      "source": [
        "# Now use image data generator for train and validation, loop for 40 epochs\n",
        "# Save best model only\n",
        "from keras.preprocessing.image import ImageDataGenerator\n",
        "from keras.callbacks import ModelCheckpoint\n",
        "# create generator that centers pixel values\n",
        "datagen = ImageDataGenerator(featurewise_center=True, featurewise_std_normalization=True)\n",
        "train_iterator = datagen.flow(trainX, trainy, batch_size=128)\n",
        "\n",
        "model_saved = ModelCheckpoint('model_weights.hdf5', save_best_only=True, monitor='val_acc', mode='max')\n",
        "\n",
        "model_info = model.fit_generator(train_iterator, samples_per_epoch = 60000, nb_epoch = 40, \n",
        "                                 validation_data = (testX, testy), \n",
        "                                 callbacks=[model_saved, LearningRateScheduler(scheduler, verbose=1)])"
      ],
      "execution_count": 0,
      "outputs": [
        {
          "output_type": "stream",
          "text": [
            "468/468 [==============================] - 15s 32ms/step - loss: 0.2031 - acc: 0.9359 - val_loss: 0.0806 - val_acc: 0.9759\n",
            "Epoch 2/40\n",
            "\n",
            "Epoch 00002: LearningRateScheduler setting learning rate to 0.0022744503.\n",
            "468/468 [==============================] - 6s 13ms/step - loss: 0.0663 - acc: 0.9788 - val_loss: 0.0423 - val_acc: 0.9867\n",
            "Epoch 3/40\n",
            "\n",
            "Epoch 00003: LearningRateScheduler setting learning rate to 0.0018315018.\n",
            "468/468 [==============================] - 6s 13ms/step - loss: 0.0511 - acc: 0.9840 - val_loss: 0.0360 - val_acc: 0.9886\n",
            "Epoch 4/40\n",
            "\n",
            "Epoch 00004: LearningRateScheduler setting learning rate to 0.0015329586.\n",
            "468/468 [==============================] - 6s 13ms/step - loss: 0.0418 - acc: 0.9864 - val_loss: 0.0385 - val_acc: 0.9881\n",
            "Epoch 5/40\n",
            "\n",
            "Epoch 00005: LearningRateScheduler setting learning rate to 0.0013181019.\n",
            "468/468 [==============================] - 6s 13ms/step - loss: 0.0368 - acc: 0.9882 - val_loss: 0.0314 - val_acc: 0.9905\n",
            "Epoch 6/40\n",
            "\n",
            "Epoch 00006: LearningRateScheduler setting learning rate to 0.0011560694.\n",
            "468/468 [==============================] - 6s 13ms/step - loss: 0.0343 - acc: 0.9894 - val_loss: 0.0267 - val_acc: 0.9920\n",
            "Epoch 7/40\n",
            "\n",
            "Epoch 00007: LearningRateScheduler setting learning rate to 0.0010295127.\n",
            "468/468 [==============================] - 6s 13ms/step - loss: 0.0311 - acc: 0.9897 - val_loss: 0.0252 - val_acc: 0.9924\n",
            "Epoch 8/40\n",
            "\n",
            "Epoch 00008: LearningRateScheduler setting learning rate to 0.0009279307.\n",
            "468/468 [==============================] - 6s 13ms/step - loss: 0.0290 - acc: 0.9910 - val_loss: 0.0262 - val_acc: 0.9915\n",
            "Epoch 9/40\n",
            "\n",
            "Epoch 00009: LearningRateScheduler setting learning rate to 0.0008445946.\n",
            "468/468 [==============================] - 6s 13ms/step - loss: 0.0260 - acc: 0.9918 - val_loss: 0.0297 - val_acc: 0.9909\n",
            "Epoch 10/40\n",
            "\n",
            "Epoch 00010: LearningRateScheduler setting learning rate to 0.0007749935.\n",
            "468/468 [==============================] - 6s 13ms/step - loss: 0.0249 - acc: 0.9920 - val_loss: 0.0238 - val_acc: 0.9918\n",
            "Epoch 11/40\n",
            "\n",
            "Epoch 00011: LearningRateScheduler setting learning rate to 0.0007159905.\n",
            "468/468 [==============================] - 6s 13ms/step - loss: 0.0236 - acc: 0.9922 - val_loss: 0.0300 - val_acc: 0.9916\n",
            "Epoch 12/40\n",
            "\n",
            "Epoch 00012: LearningRateScheduler setting learning rate to 0.000665336.\n",
            "468/468 [==============================] - 6s 13ms/step - loss: 0.0234 - acc: 0.9923 - val_loss: 0.0226 - val_acc: 0.9926\n",
            "Epoch 13/40\n",
            "\n",
            "Epoch 00013: LearningRateScheduler setting learning rate to 0.0006213753.\n",
            "468/468 [==============================] - 6s 13ms/step - loss: 0.0236 - acc: 0.9925 - val_loss: 0.0223 - val_acc: 0.9930\n",
            "Epoch 14/40\n",
            "\n",
            "Epoch 00014: LearningRateScheduler setting learning rate to 0.0005828638.\n",
            "468/468 [==============================] - 6s 13ms/step - loss: 0.0229 - acc: 0.9927 - val_loss: 0.0241 - val_acc: 0.9928\n",
            "Epoch 15/40\n",
            "\n",
            "Epoch 00015: LearningRateScheduler setting learning rate to 0.0005488474.\n",
            "468/468 [==============================] - 6s 13ms/step - loss: 0.0205 - acc: 0.9935 - val_loss: 0.0256 - val_acc: 0.9931\n",
            "Epoch 16/40\n",
            "\n",
            "Epoch 00016: LearningRateScheduler setting learning rate to 0.0005185825.\n",
            "468/468 [==============================] - 6s 13ms/step - loss: 0.0198 - acc: 0.9934 - val_loss: 0.0220 - val_acc: 0.9929\n",
            "Epoch 17/40\n",
            "\n",
            "Epoch 00017: LearningRateScheduler setting learning rate to 0.000491481.\n",
            "468/468 [==============================] - 6s 13ms/step - loss: 0.0197 - acc: 0.9934 - val_loss: 0.0217 - val_acc: 0.9938\n",
            "Epoch 18/40\n",
            "\n",
            "Epoch 00018: LearningRateScheduler setting learning rate to 0.0004670715.\n",
            "468/468 [==============================] - 6s 13ms/step - loss: 0.0178 - acc: 0.9943 - val_loss: 0.0248 - val_acc: 0.9928\n",
            "Epoch 19/40\n",
            "\n",
            "Epoch 00019: LearningRateScheduler setting learning rate to 0.0004449718.\n",
            "468/468 [==============================] - 6s 13ms/step - loss: 0.0183 - acc: 0.9939 - val_loss: 0.0212 - val_acc: 0.9935\n",
            "Epoch 20/40\n",
            "\n",
            "Epoch 00020: LearningRateScheduler setting learning rate to 0.000424869.\n",
            "468/468 [==============================] - 6s 13ms/step - loss: 0.0171 - acc: 0.9942 - val_loss: 0.0224 - val_acc: 0.9934\n",
            "Epoch 21/40\n",
            "\n",
            "Epoch 00021: LearningRateScheduler setting learning rate to 0.0004065041.\n",
            "468/468 [==============================] - 6s 13ms/step - loss: 0.0172 - acc: 0.9943 - val_loss: 0.0259 - val_acc: 0.9925\n",
            "Epoch 22/40\n",
            "\n",
            "Epoch 00022: LearningRateScheduler setting learning rate to 0.000389661.\n",
            "468/468 [==============================] - 6s 13ms/step - loss: 0.0176 - acc: 0.9940 - val_loss: 0.0230 - val_acc: 0.9933\n",
            "Epoch 23/40\n",
            "\n",
            "Epoch 00023: LearningRateScheduler setting learning rate to 0.0003741581.\n",
            "468/468 [==============================] - 6s 13ms/step - loss: 0.0164 - acc: 0.9945 - val_loss: 0.0200 - val_acc: 0.9943\n",
            "Epoch 24/40\n",
            "\n",
            "Epoch 00024: LearningRateScheduler setting learning rate to 0.0003598417.\n",
            "468/468 [==============================] - 6s 13ms/step - loss: 0.0161 - acc: 0.9946 - val_loss: 0.0237 - val_acc: 0.9932\n",
            "Epoch 25/40\n",
            "\n",
            "Epoch 00025: LearningRateScheduler setting learning rate to 0.0003465804.\n",
            "468/468 [==============================] - 6s 13ms/step - loss: 0.0163 - acc: 0.9944 - val_loss: 0.0235 - val_acc: 0.9934\n",
            "Epoch 26/40\n",
            "\n",
            "Epoch 00026: LearningRateScheduler setting learning rate to 0.0003342618.\n",
            "468/468 [==============================] - 6s 13ms/step - loss: 0.0154 - acc: 0.9949 - val_loss: 0.0209 - val_acc: 0.9944\n",
            "Epoch 27/40\n",
            "\n",
            "Epoch 00027: LearningRateScheduler setting learning rate to 0.0003227889.\n",
            "468/468 [==============================] - 6s 13ms/step - loss: 0.0146 - acc: 0.9953 - val_loss: 0.0229 - val_acc: 0.9937\n",
            "Epoch 28/40\n",
            "\n",
            "Epoch 00028: LearningRateScheduler setting learning rate to 0.0003120774.\n",
            "468/468 [==============================] - 6s 13ms/step - loss: 0.0137 - acc: 0.9958 - val_loss: 0.0202 - val_acc: 0.9939\n",
            "Epoch 29/40\n",
            "\n",
            "Epoch 00029: LearningRateScheduler setting learning rate to 0.000302054.\n",
            "468/468 [==============================] - 6s 13ms/step - loss: 0.0144 - acc: 0.9948 - val_loss: 0.0205 - val_acc: 0.9940\n",
            "Epoch 30/40\n",
            "\n",
            "Epoch 00030: LearningRateScheduler setting learning rate to 0.0002926544.\n",
            "468/468 [==============================] - 6s 13ms/step - loss: 0.0132 - acc: 0.9956 - val_loss: 0.0224 - val_acc: 0.9934\n",
            "Epoch 31/40\n",
            "\n",
            "Epoch 00031: LearningRateScheduler setting learning rate to 0.0002838221.\n",
            "468/468 [==============================] - 6s 13ms/step - loss: 0.0151 - acc: 0.9947 - val_loss: 0.0212 - val_acc: 0.9941\n",
            "Epoch 32/40\n",
            "\n",
            "Epoch 00032: LearningRateScheduler setting learning rate to 0.0002755074.\n",
            "468/468 [==============================] - 6s 13ms/step - loss: 0.0141 - acc: 0.9953 - val_loss: 0.0206 - val_acc: 0.9941\n",
            "Epoch 33/40\n",
            "\n",
            "Epoch 00033: LearningRateScheduler setting learning rate to 0.000267666.\n",
            "468/468 [==============================] - 6s 13ms/step - loss: 0.0144 - acc: 0.9954 - val_loss: 0.0223 - val_acc: 0.9943\n",
            "Epoch 34/40\n",
            "\n",
            "Epoch 00034: LearningRateScheduler setting learning rate to 0.0002602585.\n",
            "468/468 [==============================] - 6s 13ms/step - loss: 0.0132 - acc: 0.9956 - val_loss: 0.0213 - val_acc: 0.9943\n",
            "Epoch 35/40\n",
            "\n",
            "Epoch 00035: LearningRateScheduler setting learning rate to 0.00025325.\n",
            "468/468 [==============================] - 6s 13ms/step - loss: 0.0130 - acc: 0.9957 - val_loss: 0.0223 - val_acc: 0.9946\n",
            "Epoch 36/40\n",
            "\n",
            "Epoch 00036: LearningRateScheduler setting learning rate to 0.0002466091.\n",
            "468/468 [==============================] - 6s 13ms/step - loss: 0.0127 - acc: 0.9957 - val_loss: 0.0230 - val_acc: 0.9941\n",
            "Epoch 37/40\n",
            "\n",
            "Epoch 00037: LearningRateScheduler setting learning rate to 0.0002403076.\n",
            "468/468 [==============================] - 6s 13ms/step - loss: 0.0137 - acc: 0.9954 - val_loss: 0.0209 - val_acc: 0.9943\n",
            "Epoch 38/40\n",
            "\n",
            "Epoch 00038: LearningRateScheduler setting learning rate to 0.0002343201.\n",
            "468/468 [==============================] - 6s 13ms/step - loss: 0.0125 - acc: 0.9961 - val_loss: 0.0216 - val_acc: 0.9940\n",
            "Epoch 39/40\n",
            "\n",
            "Epoch 00039: LearningRateScheduler setting learning rate to 0.0002286237.\n",
            "468/468 [==============================] - 6s 13ms/step - loss: 0.0120 - acc: 0.9959 - val_loss: 0.0225 - val_acc: 0.9940\n",
            "Epoch 40/40\n",
            "\n",
            "Epoch 00040: LearningRateScheduler setting learning rate to 0.0002231977.\n",
            "468/468 [==============================] - 6s 13ms/step - loss: 0.0130 - acc: 0.9960 - val_loss: 0.0237 - val_acc: 0.9941\n"
          ],
          "name": "stdout"
        }
      ]
    },
    {
      "cell_type": "code",
      "metadata": {
        "id": "WLxlW9ufyQiO",
        "colab_type": "code",
        "colab": {}
      },
      "source": [
        "\n",
        "score = model.evaluate(X_test, Y_test, verbose=0)\n",
        "print(score)"
      ],
      "execution_count": 0,
      "outputs": []
    },
    {
      "cell_type": "code",
      "metadata": {
        "id": "m2qDl21ozBnW",
        "colab_type": "code",
        "outputId": "9a369b3a-33ab-49c7-cf45-7bff9586b1e8",
        "colab": {
          "base_uri": "https://localhost:8080/",
          "height": 34
        }
      },
      "source": [
        "testy[0]"
      ],
      "execution_count": 0,
      "outputs": [
        {
          "output_type": "execute_result",
          "data": {
            "text/plain": [
              "array([0., 0., 0., 0., 0., 0., 0., 1., 0., 0.], dtype=float32)"
            ]
          },
          "metadata": {
            "tags": []
          },
          "execution_count": 23
        }
      ]
    },
    {
      "cell_type": "code",
      "metadata": {
        "id": "bi2Dqebihyi-",
        "colab_type": "code",
        "outputId": "fd8266b2-59fc-479d-aceb-b808d65a5b24",
        "colab": {
          "base_uri": "https://localhost:8080/",
          "height": 1000
        }
      },
      "source": [
        "#use the model to predict the test images\n",
        "y_pred = model.predict(testX)\n",
        "result=[0]*10000\n",
        "#form a subplot of 5X5 images with each figure of 20X20\n",
        "fig, ax = plt.subplots(5, 5, figsize = (20, 20))\n",
        "fig.tight_layout()\n",
        "#give title to sub plot\n",
        "fig.suptitle('25 misclassified images')\n",
        "#find the predicted value and store it in a list\n",
        "for i in range(10000):\n",
        "  for j in range(10):\n",
        "    if(np.round_(y_pred[i][j])-1 == 0):\n",
        "      result[i]=j\n",
        "      \n",
        "\n",
        "layer_output= []\n",
        "count,i = 0,0\n",
        "x,y=0,0\n",
        "#iterate over all 10000 images until 25 images are printed\n",
        "while (i < 10000 and count<25):\n",
        "  #if the prediction is not equal to actual\n",
        "  if(testy[i][result[i]]==0):\n",
        "    #show the image\n",
        "    ax[x,y].imshow(imagefeatures[i])\n",
        "    ax[x,y].set_title('Predicted: %d Ground Truth: %d' %(result[i],y_test[i]))\n",
        "    if(y >= 4):\n",
        "      y=0\n",
        "      x+=1\n",
        "    else:\n",
        "      y+=1      \n",
        "    count=count+1\n",
        "  i+=1"
      ],
      "execution_count": 0,
      "outputs": [
        {
          "output_type": "display_data",
          "data": {
            "image/png": "[encoded data removed]",
            "text/plain": [
              "<Figure size 1440x1440 with 25 Axes>"
            ]
          },
          "metadata": {
            "tags": []
          }
        }
      ]
    }
  ]
}